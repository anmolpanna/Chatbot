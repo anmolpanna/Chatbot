{
  "nbformat": 4,
  "nbformat_minor": 0,
  "metadata": {
    "colab": {
      "name": "Chatbot.ipynb",
      "provenance": [],
      "collapsed_sections": []
    },
    "kernelspec": {
      "name": "python3",
      "display_name": "Python 3"
    }
  },
  "cells": [
    {
      "cell_type": "code",
      "metadata": {
        "id": "fofMrRQLS4Kf",
        "colab_type": "code",
        "colab": {}
      },
      "source": [
        "# A self learning chatbot"
      ],
      "execution_count": 0,
      "outputs": []
    },
    {
      "cell_type": "code",
      "metadata": {
        "id": "qlfpRgyGTKpM",
        "colab_type": "code",
        "colab": {
          "base_uri": "https://localhost:8080/",
          "height": 54
        },
        "outputId": "7a98ea80-6681-46e5-b329-360bd9265c5a"
      },
      "source": [
        "# Installing nltk package\n",
        "pip install nltk"
      ],
      "execution_count": 7,
      "outputs": [
        {
          "output_type": "stream",
          "text": [
            "Requirement already satisfied: nltk in /usr/local/lib/python3.6/dist-packages (3.2.5)\n",
            "Requirement already satisfied: six in /usr/local/lib/python3.6/dist-packages (from nltk) (1.12.0)\n"
          ],
          "name": "stdout"
        }
      ]
    },
    {
      "cell_type": "code",
      "metadata": {
        "id": "elWqbwWJThbv",
        "colab_type": "code",
        "colab": {
          "base_uri": "https://localhost:8080/",
          "height": 423
        },
        "outputId": "c19685a7-5d25-4499-adeb-c19db7fda507"
      },
      "source": [
        "#install the package newspaper3k\n",
        "\n",
        "!pip install newspaper3k"
      ],
      "execution_count": 8,
      "outputs": [
        {
          "output_type": "stream",
          "text": [
            "Requirement already satisfied: newspaper3k in /usr/local/lib/python3.6/dist-packages (0.2.8)\n",
            "Requirement already satisfied: lxml>=3.6.0 in /usr/local/lib/python3.6/dist-packages (from newspaper3k) (4.2.6)\n",
            "Requirement already satisfied: nltk>=3.2.1 in /usr/local/lib/python3.6/dist-packages (from newspaper3k) (3.2.5)\n",
            "Requirement already satisfied: Pillow>=3.3.0 in /usr/local/lib/python3.6/dist-packages (from newspaper3k) (7.0.0)\n",
            "Requirement already satisfied: python-dateutil>=2.5.3 in /usr/local/lib/python3.6/dist-packages (from newspaper3k) (2.8.1)\n",
            "Requirement already satisfied: requests>=2.10.0 in /usr/local/lib/python3.6/dist-packages (from newspaper3k) (2.21.0)\n",
            "Requirement already satisfied: tinysegmenter==0.3 in /usr/local/lib/python3.6/dist-packages (from newspaper3k) (0.3)\n",
            "Requirement already satisfied: tldextract>=2.0.1 in /usr/local/lib/python3.6/dist-packages (from newspaper3k) (2.2.2)\n",
            "Requirement already satisfied: beautifulsoup4>=4.4.1 in /usr/local/lib/python3.6/dist-packages (from newspaper3k) (4.6.3)\n",
            "Requirement already satisfied: cssselect>=0.9.2 in /usr/local/lib/python3.6/dist-packages (from newspaper3k) (1.1.0)\n",
            "Requirement already satisfied: PyYAML>=3.11 in /usr/local/lib/python3.6/dist-packages (from newspaper3k) (3.13)\n",
            "Requirement already satisfied: feedparser>=5.2.1 in /usr/local/lib/python3.6/dist-packages (from newspaper3k) (5.2.1)\n",
            "Requirement already satisfied: feedfinder2>=0.0.4 in /usr/local/lib/python3.6/dist-packages (from newspaper3k) (0.0.4)\n",
            "Requirement already satisfied: jieba3k>=0.35.1 in /usr/local/lib/python3.6/dist-packages (from newspaper3k) (0.35.1)\n",
            "Requirement already satisfied: six in /usr/local/lib/python3.6/dist-packages (from nltk>=3.2.1->newspaper3k) (1.12.0)\n",
            "Requirement already satisfied: idna<2.9,>=2.5 in /usr/local/lib/python3.6/dist-packages (from requests>=2.10.0->newspaper3k) (2.8)\n",
            "Requirement already satisfied: certifi>=2017.4.17 in /usr/local/lib/python3.6/dist-packages (from requests>=2.10.0->newspaper3k) (2020.4.5.1)\n",
            "Requirement already satisfied: urllib3<1.25,>=1.21.1 in /usr/local/lib/python3.6/dist-packages (from requests>=2.10.0->newspaper3k) (1.24.3)\n",
            "Requirement already satisfied: chardet<3.1.0,>=3.0.2 in /usr/local/lib/python3.6/dist-packages (from requests>=2.10.0->newspaper3k) (3.0.4)\n",
            "Requirement already satisfied: setuptools in /usr/local/lib/python3.6/dist-packages (from tldextract>=2.0.1->newspaper3k) (46.1.3)\n",
            "Requirement already satisfied: requests-file>=1.4 in /usr/local/lib/python3.6/dist-packages (from tldextract>=2.0.1->newspaper3k) (1.4.3)\n"
          ],
          "name": "stdout"
        }
      ]
    },
    {
      "cell_type": "code",
      "metadata": {
        "id": "p_-6dzzvcGaZ",
        "colab_type": "code",
        "colab": {
          "base_uri": "https://localhost:8080/",
          "height": 54
        },
        "outputId": "5a5da42c-6278-4d28-9608-5671a0e4f75a"
      },
      "source": [
        "#import packages\n",
        "import nltk\n",
        "\n",
        "\n",
        "from newspaper import Article\n",
        "import random\n",
        "import string\n",
        "from sklearn.feature_extraction.text import TfidfVectorizer\n",
        "from sklearn.metrics.pairwise import cosine_similarity\n",
        "import numpy as np\n",
        "import warnings"
      ],
      "execution_count": 19,
      "outputs": [
        {
          "output_type": "stream",
          "text": [
            "[nltk_data] Downloading package punkt to /root/nltk_data...\n",
            "[nltk_data]   Package punkt is already up-to-date!\n"
          ],
          "name": "stdout"
        }
      ]
    },
    {
      "cell_type": "code",
      "metadata": {
        "id": "FnIY1WFQW6eG",
        "colab_type": "code",
        "colab": {}
      },
      "source": [
        "#Testing newspaper3k\n",
        "\n",
        "#from newspaper import Article\n",
        "\n",
        "#article=Article(\"https://www.cbc.ca/news/canada/coronavirus-covid19-april10-canada-world-1.5529020\")\n",
        "\n",
        "#article.download()\n",
        "#article.parse()\n",
        "#article.nlp()\n",
        "\n",
        "#testing newspaper3k further\n",
        "#article.keywords\n",
        "#article.authors\n",
        "#article.publish_date"
      ],
      "execution_count": 0,
      "outputs": []
    },
    {
      "cell_type": "code",
      "metadata": {
        "id": "P0zi7detbcbg",
        "colab_type": "code",
        "colab": {}
      },
      "source": [
        "#ignoring warnings\n",
        "warnings.filterwarnings('ignore')"
      ],
      "execution_count": 0,
      "outputs": []
    },
    {
      "cell_type": "code",
      "metadata": {
        "id": "CsFUzg7Nc1dN",
        "colab_type": "code",
        "colab": {
          "base_uri": "https://localhost:8080/",
          "height": 35
        },
        "outputId": "be263aef-ea24-4bcf-a73e-56dbe37fa21c"
      },
      "source": [
        "#Download the packages from NLTK\n",
        "nltk.download('wordnet',quiet=True)\n",
        "nltk.download('punkt',quiet=True)"
      ],
      "execution_count": 23,
      "outputs": [
        {
          "output_type": "execute_result",
          "data": {
            "text/plain": [
              "True"
            ]
          },
          "metadata": {
            "tags": []
          },
          "execution_count": 23
        }
      ]
    },
    {
      "cell_type": "code",
      "metadata": {
        "id": "SipiApvNg-Ja",
        "colab_type": "code",
        "colab": {}
      },
      "source": [
        "#Get the article url\n",
        "article=Article('https://wonderfulengineering.com/this-artificial-kidney-eliminates-the-need-for-kidney-dialysis/?fbclid=IwAR19Olftqa9vr0HEhwl51c89OPN6RGsxPNDDJB2rzhqdKkIVGYYXeGCF1Ds')\n",
        "\n",
        "article.download()\n",
        "article.parse()\n",
        "article.nlp()\n",
        "corpus=article.text"
      ],
      "execution_count": 0,
      "outputs": []
    },
    {
      "cell_type": "code",
      "metadata": {
        "id": "lWIN1oaChn4J",
        "colab_type": "code",
        "colab": {
          "base_uri": "https://localhost:8080/",
          "height": 349
        },
        "outputId": "30d71eaa-489e-43aa-9f06-c80bf06cce61"
      },
      "source": [
        "#print the corpus/text\n",
        "print(corpus)"
      ],
      "execution_count": 28,
      "outputs": [
        {
          "output_type": "stream",
          "text": [
            "Advertisement\n",
            "\n",
            "It is estimated by The National Kidney Foundation that over 100,000 patients are on the waiting list for kidney donors. A further 3,000 names are added to the list every year. An average patient has to wait for 3.6 years for a viable transplant. The patients are treated with dialysis while they are waiting for a transplant and only one in three patients survive for more than five years without a transplant. All that could change as scientists have developed the world’s first artificial kidney.\n",
            "\n",
            "This bio-hybrid uses living kidney cells along with a series of specialized microchips powered by the human heart to filter waste from the blood-stream. The artificial kidney can bypass the complication of matching donors and tissue rejection. To address this unmet need, William Fissell from Vanderbilt and Shuvo Roy from the University of California, San Francisco (UCSF) launched The Kidney Project.\n",
            "\n",
            "“We can leverage Mother Nature’s 60 million years of research and development and use kidney cells that fortunately for us grow well in the lab dish, and grow them into a bioreactor of living cells,” explained Fissell in a recent article published by Research News Vanderbilt. Fissel claims that it can reliably distinguish between waste chemicals and the nutrients that need to be reabsorbed by the body.\n",
            "\n",
            "The artificial kidney can be inserted into the body by a common surgery and has been proved to work efficiently. This kidney has several microchips which are controlled by the heart and removes the toxins from the blood the same way a normal kidney does.\n",
            "\n",
            "The artificial kidney has 15 microchips built one atop the other and they act as filters. They will hold living renal cells which will eventually grow around the microchips and mimic a real kidney. Engineers are currently working and testing every single detail of the device to make sure the device can safely let the blood run through without the formation of clots or damaging the kidney in any way.\n",
            "\n",
            "This solution has been working so far and the rejection rate has been zero. The human trials are yet to commence but the research shows promising results and everybody is hoping it might eliminate the need for dialysis.\n",
            "\n",
            "You can see it in the video below:\n",
            "\n",
            "Here is an update on the Kidney project:\n"
          ],
          "name": "stdout"
        }
      ]
    },
    {
      "cell_type": "code",
      "metadata": {
        "id": "h1mBYlbUjcbD",
        "colab_type": "code",
        "colab": {
          "base_uri": "https://localhost:8080/",
          "height": 55
        },
        "outputId": "665d0d01-3bb9-4fcc-9597-36ea258703b5"
      },
      "source": [
        "#TOkenization\n",
        "text=corpus\n",
        "sent_tokens = nltk.sent_tokenize(text)#converting teext into list of sentences\n",
        "\n",
        "print(sent_tokens)\n"
      ],
      "execution_count": 61,
      "outputs": [
        {
          "output_type": "stream",
          "text": [
            "['Advertisement\\n\\nIt is estimated by The National Kidney Foundation that over 100,000 patients are on the waiting list for kidney donors.', 'A further 3,000 names are added to the list every year.', 'An average patient has to wait for 3.6 years for a viable transplant.', 'The patients are treated with dialysis while they are waiting for a transplant and only one in three patients survive for more than five years without a transplant.', 'All that could change as scientists have developed the world’s first artificial kidney.', 'This bio-hybrid uses living kidney cells along with a series of specialized microchips powered by the human heart to filter waste from the blood-stream.', 'The artificial kidney can bypass the complication of matching donors and tissue rejection.', 'To address this unmet need, William Fissell from Vanderbilt and Shuvo Roy from the University of California, San Francisco (UCSF) launched The Kidney Project.', '“We can leverage Mother Nature’s 60 million years of research and development and use kidney cells that fortunately for us grow well in the lab dish, and grow them into a bioreactor of living cells,” explained Fissell in a recent article published by Research News Vanderbilt.', 'Fissel claims that it can reliably distinguish between waste chemicals and the nutrients that need to be reabsorbed by the body.', 'The artificial kidney can be inserted into the body by a common surgery and has been proved to work efficiently.', 'This kidney has several microchips which are controlled by the heart and removes the toxins from the blood the same way a normal kidney does.', 'The artificial kidney has 15 microchips built one atop the other and they act as filters.', 'They will hold living renal cells which will eventually grow around the microchips and mimic a real kidney.', 'Engineers are currently working and testing every single detail of the device to make sure the device can safely let the blood run through without the formation of clots or damaging the kidney in any way.', 'This solution has been working so far and the rejection rate has been zero.', 'The human trials are yet to commence but the research shows promising results and everybody is hoping it might eliminate the need for dialysis.', 'You can see it in the video below:\\n\\nHere is an update on the Kidney project:']\n"
          ],
          "name": "stdout"
        }
      ]
    },
    {
      "cell_type": "code",
      "metadata": {
        "id": "eDXvEyh_kfl5",
        "colab_type": "code",
        "colab": {
          "base_uri": "https://localhost:8080/",
          "height": 35
        },
        "outputId": "63db3c61-c7d1-465a-e1ed-5555fa2f6b73"
      },
      "source": [
        "#Creating dictionary(key:value) pair to remove punctuations\n",
        "\n",
        "remove_punct_dict = dict( (ord(punct),None) for punct in string.punctuation)#we are making value of these punctuations as None\n",
        "\n",
        "print(string.punctuation)"
      ],
      "execution_count": 33,
      "outputs": [
        {
          "output_type": "stream",
          "text": [
            "!\"#$%&'()*+,-./:;<=>?@[\\]^_`{|}~\n"
          ],
          "name": "stdout"
        }
      ]
    },
    {
      "cell_type": "code",
      "metadata": {
        "id": "y5tiY2lalXcg",
        "colab_type": "code",
        "colab": {
          "base_uri": "https://localhost:8080/",
          "height": 55
        },
        "outputId": "abf40c4f-f782-4ad8-86fb-3db8d3acbd1b"
      },
      "source": [
        "#Create function to return a list of lemmatizrd lower case word removing punctutations\n",
        "\n",
        "def lemnorm(text):\n",
        "  return nltk.word_tokenize(text.lower().translate(remove_punct_dict))\n",
        "\n",
        "print(lemnorm(text))"
      ],
      "execution_count": 37,
      "outputs": [
        {
          "output_type": "stream",
          "text": [
            "['advertisement', 'it', 'is', 'estimated', 'by', 'the', 'national', 'kidney', 'foundation', 'that', 'over', '100000', 'patients', 'are', 'on', 'the', 'waiting', 'list', 'for', 'kidney', 'donors', 'a', 'further', '3000', 'names', 'are', 'added', 'to', 'the', 'list', 'every', 'year', 'an', 'average', 'patient', 'has', 'to', 'wait', 'for', '36', 'years', 'for', 'a', 'viable', 'transplant', 'the', 'patients', 'are', 'treated', 'with', 'dialysis', 'while', 'they', 'are', 'waiting', 'for', 'a', 'transplant', 'and', 'only', 'one', 'in', 'three', 'patients', 'survive', 'for', 'more', 'than', 'five', 'years', 'without', 'a', 'transplant', 'all', 'that', 'could', 'change', 'as', 'scientists', 'have', 'developed', 'the', 'world', '’', 's', 'first', 'artificial', 'kidney', 'this', 'biohybrid', 'uses', 'living', 'kidney', 'cells', 'along', 'with', 'a', 'series', 'of', 'specialized', 'microchips', 'powered', 'by', 'the', 'human', 'heart', 'to', 'filter', 'waste', 'from', 'the', 'bloodstream', 'the', 'artificial', 'kidney', 'can', 'bypass', 'the', 'complication', 'of', 'matching', 'donors', 'and', 'tissue', 'rejection', 'to', 'address', 'this', 'unmet', 'need', 'william', 'fissell', 'from', 'vanderbilt', 'and', 'shuvo', 'roy', 'from', 'the', 'university', 'of', 'california', 'san', 'francisco', 'ucsf', 'launched', 'the', 'kidney', 'project', '“', 'we', 'can', 'leverage', 'mother', 'nature', '’', 's', '60', 'million', 'years', 'of', 'research', 'and', 'development', 'and', 'use', 'kidney', 'cells', 'that', 'fortunately', 'for', 'us', 'grow', 'well', 'in', 'the', 'lab', 'dish', 'and', 'grow', 'them', 'into', 'a', 'bioreactor', 'of', 'living', 'cells', '”', 'explained', 'fissell', 'in', 'a', 'recent', 'article', 'published', 'by', 'research', 'news', 'vanderbilt', 'fissel', 'claims', 'that', 'it', 'can', 'reliably', 'distinguish', 'between', 'waste', 'chemicals', 'and', 'the', 'nutrients', 'that', 'need', 'to', 'be', 'reabsorbed', 'by', 'the', 'body', 'the', 'artificial', 'kidney', 'can', 'be', 'inserted', 'into', 'the', 'body', 'by', 'a', 'common', 'surgery', 'and', 'has', 'been', 'proved', 'to', 'work', 'efficiently', 'this', 'kidney', 'has', 'several', 'microchips', 'which', 'are', 'controlled', 'by', 'the', 'heart', 'and', 'removes', 'the', 'toxins', 'from', 'the', 'blood', 'the', 'same', 'way', 'a', 'normal', 'kidney', 'does', 'the', 'artificial', 'kidney', 'has', '15', 'microchips', 'built', 'one', 'atop', 'the', 'other', 'and', 'they', 'act', 'as', 'filters', 'they', 'will', 'hold', 'living', 'renal', 'cells', 'which', 'will', 'eventually', 'grow', 'around', 'the', 'microchips', 'and', 'mimic', 'a', 'real', 'kidney', 'engineers', 'are', 'currently', 'working', 'and', 'testing', 'every', 'single', 'detail', 'of', 'the', 'device', 'to', 'make', 'sure', 'the', 'device', 'can', 'safely', 'let', 'the', 'blood', 'run', 'through', 'without', 'the', 'formation', 'of', 'clots', 'or', 'damaging', 'the', 'kidney', 'in', 'any', 'way', 'this', 'solution', 'has', 'been', 'working', 'so', 'far', 'and', 'the', 'rejection', 'rate', 'has', 'been', 'zero', 'the', 'human', 'trials', 'are', 'yet', 'to', 'commence', 'but', 'the', 'research', 'shows', 'promising', 'results', 'and', 'everybody', 'is', 'hoping', 'it', 'might', 'eliminate', 'the', 'need', 'for', 'dialysis', 'you', 'can', 'see', 'it', 'in', 'the', 'video', 'below', 'here', 'is', 'an', 'update', 'on', 'the', 'kidney', 'project']\n"
          ],
          "name": "stdout"
        }
      ]
    },
    {
      "cell_type": "code",
      "metadata": {
        "id": "NQS6_mWZnPFB",
        "colab_type": "code",
        "colab": {}
      },
      "source": [
        "#Keyword Matching\n",
        "\n",
        "#Greeting Inputs\n",
        "GREETING_INPUTS=[\"hi\",\"hello\",\"hola\",\"namaste\",\"greetings\",\"hey\"]\n",
        "\n",
        "#Greeting responses\n",
        "GREETING_RESPONSE=[\"heyy\",\"what's popping?\",\"how you doin'?\",\"Hi\",\"hey there\"]\n",
        "\n",
        "#function to return a random greeting response to user\n",
        "def greeting(sentence):\n",
        "  for word in sentence.split():\n",
        "    if word.lower()in GREETING_INPUTS:\n",
        "      return random.choice(GREETING_RESPONSE)"
      ],
      "execution_count": 0,
      "outputs": []
    },
    {
      "cell_type": "code",
      "metadata": {
        "id": "gtD1YHdBphYZ",
        "colab_type": "code",
        "colab": {}
      },
      "source": [
        "sentence=\"Helo\"\n",
        "greeting(sentence)"
      ],
      "execution_count": 0,
      "outputs": []
    },
    {
      "cell_type": "code",
      "metadata": {
        "id": "W1n-HVYgpsiq",
        "colab_type": "code",
        "colab": {
          "base_uri": "https://localhost:8080/",
          "height": 1000
        },
        "outputId": "40f4f9ce-a40b-4c36-fd00-9181815383f8"
      },
      "source": [
        "#user response query\n",
        "user_response = 'how long a patient has to wait'\n",
        "\n",
        "user_response=user_response.lower()\n",
        "\n",
        "#set the chatbot response\n",
        "robo_response = ''\n",
        "\n",
        "#append the users response to sentence list\n",
        "sent_tokens.append(user_response)\n",
        "\n",
        "#create a tfidfvectorizer object\n",
        "TfidfVec=TfidfVectorizer(tokenizer=lemnorm,stop_words='english')\n",
        "#converting  the text to a matrix of tf-idf features\n",
        "tfidf=TfidfVec.fit_transform(sent_tokens)\n",
        "\n",
        "print(tfidf)\n",
        "\n",
        "#measure of similarity\n",
        "vals=cosine_similarity(tfidf[-1],tfidf)\n",
        "print(\"vals\",vals)\n",
        "\n",
        "#finding most similar index of text to users input\n",
        "idx = vals.argsort()[0][-2]#argsort sorts the list and then we  take the second best similar text as mos simlar text is the ressponse itself\n",
        "print(\"idx\",idx)\n",
        "\n",
        "#reduce the dimensionality of vals\n",
        "flat=vals.flatten()\n",
        "\n",
        "#sort the list in ascending order\n",
        "flat.sort()\n",
        "\n",
        "#get the most simlar score to user response\n",
        "score=flat[-2]\n",
        "print(score)\n",
        "\n",
        "#if the variable score is 0 then no text matches\n",
        "if(score==0):\n",
        "  robo_response=robo_response+\"I apologize, I don't understand.\"\n",
        "else:\n",
        "  robo_response=robo_response+sent_tokens[idx]\n",
        "\n",
        "print(robo_response)\n",
        "\n",
        "sent_tokens.remove(user_response)"
      ],
      "execution_count": 69,
      "outputs": [
        {
          "output_type": "stream",
          "text": [
            "  (0, 39)\t0.29522955959869174\n",
            "  (0, 67)\t0.29522955959869174\n",
            "  (0, 131)\t0.29522955959869174\n",
            "  (0, 84)\t0.29522955959869174\n",
            "  (0, 0)\t0.3365482781619219\n",
            "  (0, 54)\t0.3365482781619219\n",
            "  (0, 62)\t0.29160643149265086\n",
            "  (0, 77)\t0.3365482781619219\n",
            "  (0, 43)\t0.3365482781619219\n",
            "  (0, 8)\t0.3365482781619219\n",
            "  (1, 138)\t0.4578911587007186\n",
            "  (1, 6)\t0.4578911587007186\n",
            "  (1, 76)\t0.4578911587007186\n",
            "  (1, 2)\t0.4578911587007186\n",
            "  (1, 67)\t0.4016749271921928\n",
            "  (2, 118)\t0.3601470236176373\n",
            "  (2, 128)\t0.41055123629359624\n",
            "  (2, 139)\t0.3243846655923643\n",
            "  (2, 3)\t0.41055123629359624\n",
            "  (2, 130)\t0.3601470236176373\n",
            "  (2, 83)\t0.3601470236176373\n",
            "  (2, 12)\t0.41055123629359624\n",
            "  (3, 114)\t0.3112927639254659\n",
            "  (3, 35)\t0.27307471635840025\n",
            "  (3, 119)\t0.3112927639254659\n",
            "  :\t:\n",
            "  (15, 140)\t0.42489542208156844\n",
            "  (15, 90)\t0.42489542208156844\n",
            "  (15, 47)\t0.42489542208156844\n",
            "  (15, 110)\t0.42489542208156844\n",
            "  (15, 136)\t0.37273014445876473\n",
            "  (15, 94)\t0.37273014445876473\n",
            "  (16, 41)\t0.30243551484599873\n",
            "  (16, 59)\t0.30243551484599873\n",
            "  (16, 45)\t0.30243551484599873\n",
            "  (16, 99)\t0.30243551484599873\n",
            "  (16, 87)\t0.30243551484599873\n",
            "  (16, 107)\t0.30243551484599873\n",
            "  (16, 26)\t0.30243551484599873\n",
            "  (16, 120)\t0.30243551484599873\n",
            "  (16, 98)\t0.26530488981443884\n",
            "  (16, 79)\t0.23896029209961014\n",
            "  (16, 60)\t0.26530488981443884\n",
            "  (16, 35)\t0.26530488981443884\n",
            "  (17, 124)\t0.5815115123265439\n",
            "  (17, 129)\t0.5815115123265439\n",
            "  (17, 86)\t0.5101181578564946\n",
            "  (17, 62)\t0.2519289326149107\n",
            "  (18, 69)\t0.6275722146801459\n",
            "  (18, 130)\t0.5505238938327095\n",
            "  (18, 83)\t0.5505238938327095\n",
            "vals [[0.         0.         0.39653908 0.         0.         0.\n",
            "  0.         0.         0.         0.         0.         0.\n",
            "  0.         0.         0.         0.         0.         0.\n",
            "  1.        ]]\n",
            "idx 2\n",
            "0.39653908358848505\n",
            "An average patient has to wait for 3.6 years for a viable transplant.\n"
          ],
          "name": "stdout"
        }
      ]
    },
    {
      "cell_type": "code",
      "metadata": {
        "id": "FuQHQ6zgu9pE",
        "colab_type": "code",
        "colab": {}
      },
      "source": [
        ""
      ],
      "execution_count": 0,
      "outputs": []
    }
  ]
}
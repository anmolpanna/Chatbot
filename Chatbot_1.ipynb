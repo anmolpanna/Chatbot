{
  "nbformat": 4,
  "nbformat_minor": 0,
  "metadata": {
    "colab": {
      "name": "Chatbot_1.ipynb",
      "provenance": [],
      "collapsed_sections": []
    },
    "kernelspec": {
      "name": "python3",
      "display_name": "Python 3"
    }
  },
  "cells": [
    {
      "cell_type": "code",
      "metadata": {
        "id": "lScgjG47miL8",
        "colab_type": "code",
        "outputId": "83f57d5c-7ee5-4cf2-ab1d-c55b2fd1580e",
        "colab": {
          "base_uri": "https://localhost:8080/",
          "height": 384
        }
      },
      "source": [
        "pip install spacy"
      ],
      "execution_count": 79,
      "outputs": [
        {
          "output_type": "stream",
          "text": [
            "Requirement already satisfied: spacy in /usr/local/lib/python3.6/dist-packages (2.2.4)\n",
            "Requirement already satisfied: catalogue<1.1.0,>=0.0.7 in /usr/local/lib/python3.6/dist-packages (from spacy) (1.0.0)\n",
            "Requirement already satisfied: requests<3.0.0,>=2.13.0 in /usr/local/lib/python3.6/dist-packages (from spacy) (2.21.0)\n",
            "Requirement already satisfied: setuptools in /usr/local/lib/python3.6/dist-packages (from spacy) (46.1.3)\n",
            "Requirement already satisfied: murmurhash<1.1.0,>=0.28.0 in /usr/local/lib/python3.6/dist-packages (from spacy) (1.0.2)\n",
            "Requirement already satisfied: tqdm<5.0.0,>=4.38.0 in /usr/local/lib/python3.6/dist-packages (from spacy) (4.38.0)\n",
            "Requirement already satisfied: plac<1.2.0,>=0.9.6 in /usr/local/lib/python3.6/dist-packages (from spacy) (1.1.3)\n",
            "Requirement already satisfied: wasabi<1.1.0,>=0.4.0 in /usr/local/lib/python3.6/dist-packages (from spacy) (0.6.0)\n",
            "Requirement already satisfied: blis<0.5.0,>=0.4.0 in /usr/local/lib/python3.6/dist-packages (from spacy) (0.4.1)\n",
            "Requirement already satisfied: numpy>=1.15.0 in /usr/local/lib/python3.6/dist-packages (from spacy) (1.18.2)\n",
            "Requirement already satisfied: srsly<1.1.0,>=1.0.2 in /usr/local/lib/python3.6/dist-packages (from spacy) (1.0.2)\n",
            "Requirement already satisfied: thinc==7.4.0 in /usr/local/lib/python3.6/dist-packages (from spacy) (7.4.0)\n",
            "Requirement already satisfied: preshed<3.1.0,>=3.0.2 in /usr/local/lib/python3.6/dist-packages (from spacy) (3.0.2)\n",
            "Requirement already satisfied: cymem<2.1.0,>=2.0.2 in /usr/local/lib/python3.6/dist-packages (from spacy) (2.0.3)\n",
            "Requirement already satisfied: importlib-metadata>=0.20; python_version < \"3.8\" in /usr/local/lib/python3.6/dist-packages (from catalogue<1.1.0,>=0.0.7->spacy) (1.6.0)\n",
            "Requirement already satisfied: certifi>=2017.4.17 in /usr/local/lib/python3.6/dist-packages (from requests<3.0.0,>=2.13.0->spacy) (2020.4.5.1)\n",
            "Requirement already satisfied: urllib3<1.25,>=1.21.1 in /usr/local/lib/python3.6/dist-packages (from requests<3.0.0,>=2.13.0->spacy) (1.24.3)\n",
            "Requirement already satisfied: chardet<3.1.0,>=3.0.2 in /usr/local/lib/python3.6/dist-packages (from requests<3.0.0,>=2.13.0->spacy) (3.0.4)\n",
            "Requirement already satisfied: idna<2.9,>=2.5 in /usr/local/lib/python3.6/dist-packages (from requests<3.0.0,>=2.13.0->spacy) (2.8)\n",
            "Requirement already satisfied: zipp>=0.5 in /usr/local/lib/python3.6/dist-packages (from importlib-metadata>=0.20; python_version < \"3.8\"->catalogue<1.1.0,>=0.0.7->spacy) (3.1.0)\n"
          ],
          "name": "stdout"
        }
      ]
    },
    {
      "cell_type": "code",
      "metadata": {
        "id": "9CcUpa6gnPQC",
        "colab_type": "code",
        "outputId": "58e5bc6b-1756-45b5-c494-fd5e00cf8faa",
        "colab": {
          "base_uri": "https://localhost:8080/",
          "height": 403
        }
      },
      "source": [
        "pip install newspaper3k"
      ],
      "execution_count": 80,
      "outputs": [
        {
          "output_type": "stream",
          "text": [
            "Requirement already satisfied: newspaper3k in /usr/local/lib/python3.6/dist-packages (0.2.8)\n",
            "Requirement already satisfied: lxml>=3.6.0 in /usr/local/lib/python3.6/dist-packages (from newspaper3k) (4.2.6)\n",
            "Requirement already satisfied: cssselect>=0.9.2 in /usr/local/lib/python3.6/dist-packages (from newspaper3k) (1.1.0)\n",
            "Requirement already satisfied: feedfinder2>=0.0.4 in /usr/local/lib/python3.6/dist-packages (from newspaper3k) (0.0.4)\n",
            "Requirement already satisfied: tinysegmenter==0.3 in /usr/local/lib/python3.6/dist-packages (from newspaper3k) (0.3)\n",
            "Requirement already satisfied: nltk>=3.2.1 in /usr/local/lib/python3.6/dist-packages (from newspaper3k) (3.2.5)\n",
            "Requirement already satisfied: tldextract>=2.0.1 in /usr/local/lib/python3.6/dist-packages (from newspaper3k) (2.2.2)\n",
            "Requirement already satisfied: feedparser>=5.2.1 in /usr/local/lib/python3.6/dist-packages (from newspaper3k) (5.2.1)\n",
            "Requirement already satisfied: PyYAML>=3.11 in /usr/local/lib/python3.6/dist-packages (from newspaper3k) (3.13)\n",
            "Requirement already satisfied: Pillow>=3.3.0 in /usr/local/lib/python3.6/dist-packages (from newspaper3k) (7.0.0)\n",
            "Requirement already satisfied: beautifulsoup4>=4.4.1 in /usr/local/lib/python3.6/dist-packages (from newspaper3k) (4.6.3)\n",
            "Requirement already satisfied: requests>=2.10.0 in /usr/local/lib/python3.6/dist-packages (from newspaper3k) (2.21.0)\n",
            "Requirement already satisfied: python-dateutil>=2.5.3 in /usr/local/lib/python3.6/dist-packages (from newspaper3k) (2.8.1)\n",
            "Requirement already satisfied: jieba3k>=0.35.1 in /usr/local/lib/python3.6/dist-packages (from newspaper3k) (0.35.1)\n",
            "Requirement already satisfied: six in /usr/local/lib/python3.6/dist-packages (from feedfinder2>=0.0.4->newspaper3k) (1.12.0)\n",
            "Requirement already satisfied: idna in /usr/local/lib/python3.6/dist-packages (from tldextract>=2.0.1->newspaper3k) (2.8)\n",
            "Requirement already satisfied: setuptools in /usr/local/lib/python3.6/dist-packages (from tldextract>=2.0.1->newspaper3k) (46.1.3)\n",
            "Requirement already satisfied: requests-file>=1.4 in /usr/local/lib/python3.6/dist-packages (from tldextract>=2.0.1->newspaper3k) (1.4.3)\n",
            "Requirement already satisfied: urllib3<1.25,>=1.21.1 in /usr/local/lib/python3.6/dist-packages (from requests>=2.10.0->newspaper3k) (1.24.3)\n",
            "Requirement already satisfied: chardet<3.1.0,>=3.0.2 in /usr/local/lib/python3.6/dist-packages (from requests>=2.10.0->newspaper3k) (3.0.4)\n",
            "Requirement already satisfied: certifi>=2017.4.17 in /usr/local/lib/python3.6/dist-packages (from requests>=2.10.0->newspaper3k) (2020.4.5.1)\n"
          ],
          "name": "stdout"
        }
      ]
    },
    {
      "cell_type": "code",
      "metadata": {
        "id": "x0RVu3runUU-",
        "colab_type": "code",
        "colab": {}
      },
      "source": [
        "from newspaper import Article\n",
        "import random\n",
        "import string\n",
        "from sklearn.feature_extraction.text import TfidfVectorizer\n",
        "from sklearn.metrics.pairwise import cosine_similarity\n",
        "import spacy\n",
        "import numpy as np\n",
        "import warnings\n"
      ],
      "execution_count": 0,
      "outputs": []
    },
    {
      "cell_type": "code",
      "metadata": {
        "id": "JSPJArVWMYwW",
        "colab_type": "code",
        "colab": {}
      },
      "source": [
        "nlp = spacy.load(\"en_core_web_sm\")"
      ],
      "execution_count": 0,
      "outputs": []
    },
    {
      "cell_type": "code",
      "metadata": {
        "id": "huUh7dpjn6wD",
        "colab_type": "code",
        "colab": {}
      },
      "source": [
        "warnings.filterwarnings('ignore')"
      ],
      "execution_count": 0,
      "outputs": []
    },
    {
      "cell_type": "code",
      "metadata": {
        "id": "yY7kRJROomTj",
        "colab_type": "code",
        "outputId": "443032d5-b842-4b17-c956-8c8954993cce",
        "colab": {
          "base_uri": "https://localhost:8080/",
          "height": 1000
        }
      },
      "source": [
        "# Loading the article using Newspaper\n",
        "\n",
        "article1 = Article('https://www.who.int/health-topics/coronavirus#tab=tab_1')\n",
        "article2=Article('https://globalnews.ca/news/6809479/ontario-coronavirus-covid-19-cases-april-12/')\n",
        "article3=Article('https://www.webmd.com/lung/qa/how-can-i-prevent-coronavirus-infection')\n",
        "\n",
        "article1.download()\n",
        "article1.parse()\n",
        "article2.download()\n",
        "article2.parse()\n",
        "article3.download()\n",
        "article3.parse()\n",
        "\n",
        "article.text=article1.text+article2.text+article3.text\n",
        "corpus=nlp(article.text)\n",
        "\n",
        "\n",
        "print(corpus)\n"
      ],
      "execution_count": 93,
      "outputs": [
        {
          "output_type": "stream",
          "text": [
            "Coronavirus disease (COVID-19) is an infectious disease caused by a newly discovered coronavirus.\n",
            "\n",
            "\n",
            "\n",
            "Most people infected with the COVID-19 virus will experience mild to moderate respiratory illness and recover without requiring special treatment. Older people, and those with underlying medical problems like cardiovascular disease, diabetes, chronic respiratory disease, and cancer are more likely to develop serious illness.\n",
            "\n",
            "\n",
            "\n",
            "The best way to prevent and slow down transmission is be well informed about the COVID-19 virus, the disease it causes and how it spreads. Protect yourself and others from infection by washing your hands or using an alcohol based rub frequently and not touching your face.\n",
            "\n",
            "The COVID-19 virus spreads primarily through droplets of saliva or discharge from the nose when an infected person coughs or sneezes, so it’s important that you also practice respiratory etiquette (for example, by coughing into a flexed elbow).\n",
            "\n",
            "At this time, there are no specific vaccines or treatments for COVID-19. However, there are many ongoing clinical trials evaluating potential treatments. WHO will continue to provide updated information as soon as clinical findings become available.\n",
            "\n",
            "\n",
            "\n",
            "Stay informed:\n",
            "\n",
            "Send this page to someone via email\n",
            "\n",
            "Share this item on Twitter\n",
            "\n",
            "Share this item via WhatsApp\n",
            "\n",
            "Ontario reported 401 new confirmed cases of novel coronavirus Sunday morning, including 21 deaths, bringing the total number of cases in the province to 7,049.\n",
            "\n",
            "The death toll has risen to 274.\n",
            "\n",
            "The number of resolved cases in the province sits at 3,121, or about 44 per cent of all cases.\n",
            "\n",
            "Sunday’s increase in cases marks a six per cent jump compared to the day prior. That number has gone down over the past several days.\n",
            "\n",
            "Saturday saw a 6.6 per cent increase.\n",
            "\n",
            "The number of reported cases has also declined each day since Thursday’s high of 550.\n",
            "\n",
            "[ Sign up for our Health IQ newsletter for the latest coronavirus updates ]\n",
            "\n",
            "The number of hospitalized patients with COVID-19 is 738 — a single-day increase of 65 — with 261 in intensive care and 196 on a ventilator.\n",
            "\n",
            "Story continues below advertisement\n",
            "\n",
            "Around 13 per cent of all cases in Ontario have resulted in hospitalization.\n",
            "\n",
            "Over 6,800‬ additional tests have been conducted, bringing the total number of tests done in the province to 103,165. Over 1,600 cases remain under investigation.\n",
            "\n",
            "Eighty-six outbreaks have been reported at long-term care homes.\n",
            "\n",
            "The newly-reported numbers are valid as of 4 p.m. Saturday.\n",
            "\n",
            "Here is a breakdown of the cases by age and gender:\n",
            "\n",
            "Just under 45 per cent of cases are male, with under 55 per cent reported in females. Forty-two cases did not specify male or female.\n",
            "\n",
            "19 and under: 167 cases, or 2.4 per cent\n",
            "\n",
            "20 to 39: 1,740 cases, or 24.7 per cent\n",
            "\n",
            "40 to 59: 2,403 cases, or 34.1 per cent\n",
            "\n",
            "60 to 79: 1,705 cases, or 24.2 per cent\n",
            "\n",
            "80 and over: 1,028 cases, or 14.6 per cent\n",
            "\n",
            "On Saturday, the provincial government extended its COVID-19-related emergency orders — including the closure of non-essential workplaces, outdoor park amenities and recreational areas, along with restrictions on social gatherings — until April 23.\n",
            "\n",
            "Story continues below advertisementTHIS TOOL DOES NOT PROVIDE MEDICAL ADVICE. It is intended for general informational purposes only and does not address individual circumstances. It is not a substitute for professional medical advice, diagnosis or treatment and should not be relied on to make decisions about your health. Never ignore professional medical advice in seeking treatment because of something you have read on the WebMD Site. If you think you may have a medical emergency, immediately call your doctor or dial 911.\n"
          ],
          "name": "stdout"
        }
      ]
    },
    {
      "cell_type": "code",
      "metadata": {
        "id": "A-DOuWudOiC8",
        "colab_type": "code",
        "outputId": "87a9ab0a-dd28-47af-f721-7868501aa971",
        "colab": {
          "base_uri": "https://localhost:8080/",
          "height": 55
        }
      },
      "source": [
        "#  Sentence Tokenisation\n",
        "text = corpus\n",
        "sent_tokens=[]\n",
        "for sentenc in text.sents:\n",
        "  sent_tokens.append(sentenc.string)\n",
        "  \n",
        "print(sent_tokens)\n"
      ],
      "execution_count": 94,
      "outputs": [
        {
          "output_type": "stream",
          "text": [
            "['Coronavirus disease (COVID-19) is an infectious disease caused by a newly discovered coronavirus.\\n\\n\\n\\n', 'Most people infected with the COVID-19 virus will experience mild to moderate respiratory illness and recover without requiring special treatment. ', 'Older people, and those with underlying medical problems like cardiovascular disease, diabetes, chronic respiratory disease, and cancer are more likely to develop serious illness.\\n\\n\\n\\n', 'The best way to prevent and slow down transmission ', 'is be well informed about the COVID-19 virus, the disease it causes and how it spreads. ', 'Protect yourself and others from infection by washing your hands or using an alcohol based rub frequently and not touching your face.\\n\\n', 'The COVID-19 virus spreads primarily through droplets of saliva or discharge from the nose when an infected person coughs or sneezes, so ', 'it’s important that you also practice respiratory etiquette (for example, by coughing into a flexed elbow).\\n\\n', 'At this time, there are no specific vaccines or treatments for COVID-19. ', 'However, there are many ongoing clinical trials evaluating potential treatments. ', 'WHO will continue to provide updated information as soon as clinical findings become available.\\n\\n\\n\\n', 'Stay informed:\\n\\n', 'Send this page to someone via email\\n\\nShare this item on Twitter\\n\\n', 'Share this item via ', 'WhatsApp\\n\\nOntario reported 401 new confirmed cases of novel coronavirus Sunday morning, including 21 deaths, bringing the total number of cases in the province to 7,049.\\n\\n', 'The death toll has risen to 274.\\n\\n', 'The number of resolved cases in the province sits at 3,121, or about 44 per cent of all cases.\\n\\n', 'Sunday’s increase in cases marks a six per cent jump compared to the day prior. ', 'That number has gone down over the past several days.\\n\\n', 'Saturday saw a 6.6 per cent increase.\\n\\n', 'The number of reported cases has also declined each day since Thursday’s high of 550.\\n\\n', '[ Sign up for our Health IQ newsletter for the latest coronavirus updates ]\\n\\n', 'The number of hospitalized patients with COVID-19 is 738 — a single-day increase of 65 — with 261 in intensive care and 196 on a ventilator.\\n\\n', 'Story continues below advertisement\\n\\n', 'Around 13 per cent of all cases in Ontario have resulted in hospitalization.\\n\\n', 'Over 6,800\\u202c additional tests have been conducted, bringing the total number of tests done in the province to 103,165. ', 'Over 1,600 cases remain under investigation.\\n\\n', 'Eighty-six outbreaks have been reported at long-term care homes.\\n\\n', 'The newly-reported numbers are valid as of 4 p.m. Saturday.\\n\\n', 'Here is a breakdown of the cases by age and gender:\\n\\n', 'Just under 45 per cent of cases are male, with under 55 per cent reported in females. ', 'Forty-two cases did not specify male or female.\\n\\n', '19 and under: 167 cases, or 2.4 per cent\\n\\n20 to 39: 1,740 cases, or 24.7 per cent\\n\\n40 to 59: 2,403 cases, or 34.1 per cent\\n\\n', '60 to 79: 1,705 cases, or 24.2 per cent\\n\\n80 and over: 1,028 cases, or 14.6 per cent\\n\\n', 'On Saturday, the provincial government extended its COVID-19-related emergency orders — including the closure of non-essential workplaces, outdoor park amenities and recreational areas, along with restrictions on social gatherings — until April 23.\\n\\n', 'Story continues below advertisementTHIS TOOL ', 'DOES NOT PROVIDE MEDICAL ADVICE. ', 'It is intended for general informational purposes only and does not address individual circumstances. ', 'It is not a substitute for professional medical advice, diagnosis or treatment and should not be relied on to make decisions about your health. ', 'Never ignore professional medical advice in seeking treatment because of something you have read on the WebMD Site. ', 'If you think you may have a medical emergency, immediately call your doctor or dial 911.']\n"
          ],
          "name": "stdout"
        }
      ]
    },
    {
      "cell_type": "code",
      "metadata": {
        "id": "0FaXPBTWl-3A",
        "colab_type": "code",
        "outputId": "0163cad8-5646-4ecb-a2ff-f1ce4ede2a65",
        "colab": {
          "base_uri": "https://localhost:8080/",
          "height": 35
        }
      },
      "source": [
        "type(text)"
      ],
      "execution_count": 95,
      "outputs": [
        {
          "output_type": "execute_result",
          "data": {
            "text/plain": [
              "spacy.tokens.doc.Doc"
            ]
          },
          "metadata": {
            "tags": []
          },
          "execution_count": 95
        }
      ]
    },
    {
      "cell_type": "code",
      "metadata": {
        "id": "ZXodpE4RRqaM",
        "colab_type": "code",
        "colab": {}
      },
      "source": [
        "#converting user response to spacy token\n",
        "def responsetotoken(user_response):\n",
        "    return nlp(user_response)\n",
        "\n",
        "\n",
        "# lemmatized lowercase words after removing punctuations with SPACY\n",
        "def LemNormalize(text):\n",
        "  text=responsetotoken(text)\n",
        "  return [token.lower_ for token in text if not token.is_stop and not token.is_punct]\n",
        "\n",
        "\n",
        "\n",
        "\n"
      ],
      "execution_count": 0,
      "outputs": []
    },
    {
      "cell_type": "code",
      "metadata": {
        "id": "9D53DXzEr6Zq",
        "colab_type": "code",
        "colab": {}
      },
      "source": [
        "# Intent Classification\n",
        "\n",
        "GREETING_INPUTS = [\"hi\",\"hello\",\"hola\",\"greetings\",\"wassup\",\"hey\",\"howdy\",\"namastey\"]\n",
        "GREETING_RESPONSES = [\"howdy\",\"hi\",\"hey\",\"what's good\", \"hello\", \"hey there\",\"Greetings,human\"]\n",
        "\n",
        "INTENT_SUPPORT = [\"support\",\"financial support\",\"economic support\"]\n",
        "INTENT_SUPPORT_RESPONSES = [\"Which kind of support would you like to know more about? individual or business\"]\n",
        "\n",
        "INTENT_IND = [\"support for individuals\",\"individual support\",\"individual\",\"financial support for business\"]\n",
        "INTENT_IND_RESPONSES= [\"There are three types of support for individuals: CERB, EI benefits and Other support. Which one would you like to know about?\"]\n",
        "\n",
        "INTENT_CERB= [\"cerb\"]\n",
        "INTENT_CERB_RESPONSES = [\"Here's the page you can view : https://www.canada.ca/en/services/benefits/ei/cerb-application.html?topic=Economic+and+financial+support&economic=Support+for+individuals&individuals=The+Canada+Emergency+Response+Benefit+%28CERB%29\"]\n",
        "\n",
        "INTENT_EI = [\"ei\",\"employee ensurance\",\"employee insurance benefits\",\"ei benefits\",\"others\",\"other\",\"other benefits\"]\n",
        "INTENT_EI_RESPONSES = [\"This page can help you : https://www.canada.ca/en/services/benefits/ei/ei-sickness/qualify.html?topic=Economic+and+financial+support&economic=Support+for+individuals&individuals=Improved+access+to+Employment+Insurance\"]\n",
        "\n",
        "INTENT_BUSINESS = [\"support for business\", \"business support\",\"financial support  for business\",\"business\"]\n",
        "INTENT_BUS_RESPONSES = [\"This page can help you : https://www.canada.ca/en/department-finance/economic-response-plan.html?topic=Economic+and+financial+support&economic=Support+for+businesses#businesses\"]\n",
        "\n",
        "BYE_INPUTS = [\"thanks\",\"thank\",\"thankyou\",\"thank you\"]\n",
        "BYE_RESPONSES = [\"welcome! Glad to be of help\",\"You are welcome\",\"My Pleasure\"]\n",
        "\n",
        "\n",
        "# Function to return a random greeting response\n",
        "\n",
        "def greeting(sentence):\n",
        "  for word in sentence.split():\n",
        "    if word.lower() in GREETING_INPUTS:\n",
        "      return random.choice(GREETING_RESPONSES)\n",
        "    elif word.lower() in INTENT_SUPPORT:\n",
        "      return random.choice(INTENT_SUPPORT_RESPONSES)\n",
        "    elif word.lower() in INTENT_IND:\n",
        "      return random.choice(INTENT_IND_RESPONSES)\n",
        "    elif word.lower() in INTENT_CERB:\n",
        "      return random.choice(INTENT_CERB_RESPONSES)\n",
        "    elif word.lower() in INTENT_BUSINESS:\n",
        "      return random.choice(INTENT_BUS_RESPONSES)\n",
        "    elif word.lower() in INTENT_EI:\n",
        "      return random.choice(INTENT_EI_RESPONSES)\n",
        "    elif word.lower() in BYE_INPUTS:\n",
        "      return random.choice(BYE_RESPONSES)\n"
      ],
      "execution_count": 0,
      "outputs": []
    },
    {
      "cell_type": "code",
      "metadata": {
        "id": "lbqup_XznSyf",
        "colab_type": "code",
        "colab": {}
      },
      "source": [
        "  "
      ],
      "execution_count": 0,
      "outputs": []
    },
    {
      "cell_type": "code",
      "metadata": {
        "id": "rZuwGuabtny-",
        "colab_type": "code",
        "colab": {}
      },
      "source": [
        "# generate the response\n",
        "\n",
        "def response(user_response):\n",
        "\n",
        "  # The users response / query\n",
        "  user_response = user_response.lower() # make the response lower case\n",
        "\n",
        "  #print (user_response)\n",
        "  #set the chatbot response to an empty string\n",
        "  robo_response =''\n",
        "\n",
        "  #Append the users response to the sentence list\n",
        "  sent_tokens.append(user_response)\n",
        "  #print(sent_tokens)\n",
        "\n",
        "\n",
        "\n",
        "\n",
        "  #Create a Tfidfvectorizer Object\n",
        "  TfidfVec = TfidfVectorizer(tokenizer = LemNormalize, stop_words='english')\n",
        "\n",
        "  # convert the text to a matrix of TF-Idf features\n",
        "  tfidf = TfidfVec.fit_transform(sent_tokens)\n",
        "\n",
        "  #### Print the TFIDF features\n",
        "  #print(tfidf)\n",
        "\n",
        "  # get the measure of similarity\n",
        "  vals = cosine_similarity(tfidf[-1], tfidf)\n",
        "  #print (vals)\n",
        "\n",
        "\n",
        "  #Get the index of the most similar text for users response\n",
        "  idx = vals.argsort()[0][-2]\n",
        "\n",
        "  # Reduce the dimensionallity of vals\n",
        "  flat = vals.flatten()\n",
        "\n",
        "  # sort the list in ascending order\n",
        "  flat.sort()\n",
        "\n",
        "  # get the most similar score to the users response\n",
        "  score = flat[-2]\n",
        "\n",
        "  # print the similarity score\n",
        "  #print(score)\n",
        "\n",
        "  # if the variable score is 0 then the most similar score to the users response\n",
        "  if (score == 0):\n",
        "    robo_response = robo_response+\"I apologize, I don't understand.\"\n",
        "  else:\n",
        "    robo_response = robo_response+sent_tokens[idx]\n",
        "\n",
        "  # Print the chatbot response\n",
        "  #print(robo_response)\n",
        "  sent_tokens.remove(user_response)\n",
        "\n",
        "  return robo_response"
      ],
      "execution_count": 0,
      "outputs": []
    },
    {
      "cell_type": "code",
      "metadata": {
        "id": "F1YFyaHOpJsu",
        "colab_type": "code",
        "colab": {}
      },
      "source": [
        ""
      ],
      "execution_count": 0,
      "outputs": []
    },
    {
      "cell_type": "code",
      "metadata": {
        "id": "7itVhCaG0qbN",
        "colab_type": "code",
        "outputId": "5e05434c-59d7-440a-ff3f-ae64a0a91dc4",
        "colab": {
          "base_uri": "https://localhost:8080/",
          "height": 256
        }
      },
      "source": [
        "flag = True\n",
        "print(\"DOCBot: I am Doctor Bot or DOCBot for short. I will answer your queries about Coronavirus. If you want to exit, type Bye!\")\n",
        "while (flag == True):\n",
        "  user_response = input()\n",
        "  user_response = user_response.lower()\n",
        "  if(user_response !='bye'):    \n",
        "    if(greeting(user_response) !=None):\n",
        "      print(\"DOCBot: \"+greeting(user_response))\n",
        "    else:\n",
        "      print(\"DOCBot:  \"+response(user_response))\n",
        "            \n",
        "  else:\n",
        "    flag = False\n",
        "    print(\"DOCBot: Chat with you later !\")"
      ],
      "execution_count": 105,
      "outputs": [
        {
          "output_type": "stream",
          "text": [
            "DOCBot: I am Doctor Bot or DOCBot for short. I will answer your queries about Coronavirus. If you want to exit, type Bye!\n",
            "hello\n",
            "DOCBot: hello\n",
            "thanks\n",
            "DOCBot: You are welcome\n",
            "hello\n",
            "DOCBot: Greetings,human\n",
            "hello\n",
            "DOCBot: hey there\n",
            "thankyou\n",
            "DOCBot: My Pleasure\n",
            "bye\n",
            "DOCBot: Chat with you later !\n"
          ],
          "name": "stdout"
        }
      ]
    },
    {
      "cell_type": "code",
      "metadata": {
        "id": "Sj_MW19mFg2m",
        "colab_type": "code",
        "colab": {}
      },
      "source": [
        ""
      ],
      "execution_count": 0,
      "outputs": []
    }
  ]
}